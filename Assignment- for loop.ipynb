{
 "cells": [
  {
   "cell_type": "markdown",
   "id": "ec075da2-b84c-48f9-9de5-26f5bc08449f",
   "metadata": {},
   "source": [
    "#### 1. Write a Python program to print the numbers from 1 to 10 using a `for` loop."
   ]
  },
  {
   "cell_type": "code",
   "execution_count": 1,
   "id": "068845ac-b3c8-4ad9-8fe9-9948eea29c9c",
   "metadata": {},
   "outputs": [
    {
     "data": {
      "text/plain": [
       "[1, 2, 3, 4, 5, 6, 7, 8, 9, 10]"
      ]
     },
     "execution_count": 1,
     "metadata": {},
     "output_type": "execute_result"
    }
   ],
   "source": [
    "list(range(1,11))"
   ]
  },
  {
   "cell_type": "code",
   "execution_count": 3,
   "id": "80efa84d-c308-4300-9535-d8218f189961",
   "metadata": {},
   "outputs": [
    {
     "name": "stdout",
     "output_type": "stream",
     "text": [
      "1\n",
      "2\n",
      "3\n",
      "4\n",
      "5\n",
      "6\n",
      "7\n",
      "8\n",
      "9\n",
      "10\n"
     ]
    }
   ],
   "source": [
    "for i in range(1,11):\n",
    "    \n",
    "    print(i)"
   ]
  },
  {
   "cell_type": "markdown",
   "id": "e1bc3319-2935-4425-a59b-4b7af19e715e",
   "metadata": {},
   "source": [
    "#### 2. Create a program that calculates the sum of all numbers in a list using a `for` loop."
   ]
  },
  {
   "cell_type": "code",
   "execution_count": 3,
   "id": "4da28c2d-b436-48ae-ad30-7b59386a18bd",
   "metadata": {},
   "outputs": [
    {
     "name": "stdout",
     "output_type": "stream",
     "text": [
      "The sum of all number of a given list is: 55\n"
     ]
    }
   ],
   "source": [
    "l= [1,2,3,4,5,6,7,8,9,10]\n",
    "sum=0\n",
    "for i in l:\n",
    "    sum += i\n",
    "    \n",
    "print(\"The sum of all number of a given list is:\",sum)"
   ]
  },
  {
   "cell_type": "markdown",
   "id": "47ce929a-911b-4575-8e4a-1cb8afff0b0a",
   "metadata": {},
   "source": [
    "#### 3. Write a program to print the characters of a string in reverse order using a `for` loop."
   ]
  },
  {
   "cell_type": "code",
   "execution_count": 1,
   "id": "fd462d85-68f6-4a1f-82f1-4148737f2552",
   "metadata": {},
   "outputs": [
    {
     "name": "stdout",
     "output_type": "stream",
     "text": [
      "The reverse of  a given string is : ['sllikswp']\n"
     ]
    }
   ],
   "source": [
    "s= [\"pwskills\"]\n",
    "s1=[]\n",
    "for i in s:\n",
    "    i[::-1]\n",
    "    s1.append(i[::-1])\n",
    "print(\"The reverse of  a given string is :\",s1)    \n",
    "      "
   ]
  },
  {
   "cell_type": "markdown",
   "id": "2ead05fc-4f4b-48e7-a611-644969b1aebd",
   "metadata": {},
   "source": [
    "#### 4. Develop a program that finds the factorial of a given number using a `for` loop."
   ]
  },
  {
   "cell_type": "code",
   "execution_count": 4,
   "id": "45fb2d5f-6917-4314-b0f3-5b21658908bb",
   "metadata": {},
   "outputs": [
    {
     "name": "stdin",
     "output_type": "stream",
     "text": [
      "enter a number for which u r looking factorial 5\n"
     ]
    },
    {
     "name": "stdout",
     "output_type": "stream",
     "text": [
      "Factorial of given number is :  120\n"
     ]
    }
   ],
   "source": [
    "n = int(input(\"enter a number for which u r looking factorial\"))\n",
    "f = 1\n",
    "for i in range(1,n+1):\n",
    "    f= i*f\n",
    "    \n",
    "print(\"Factorial of given number is : \", f)        "
   ]
  },
  {
   "cell_type": "markdown",
   "id": "037a50c9-4ab7-4dba-b92a-ea7233bf7c2c",
   "metadata": {},
   "source": [
    "#### 5. Create a program to print the multiplication table of a given number using a `for` loop."
   ]
  },
  {
   "cell_type": "code",
   "execution_count": 3,
   "id": "727d602b-3d7a-4e7d-b586-f93d5a2d6568",
   "metadata": {},
   "outputs": [
    {
     "name": "stdout",
     "output_type": "stream",
     "text": [
      "1 2 3 4 5 \n",
      "2 4 6 8 10 \n",
      "3 6 9 12 15 \n",
      "4 8 12 16 20 \n",
      "5 10 15 20 25 \n"
     ]
    }
   ],
   "source": [
    "for i in range(1,6):\n",
    "    for j in range(1,6):\n",
    "        print(i*j,end=' ')\n",
    "    print()    "
   ]
  },
  {
   "cell_type": "code",
   "execution_count": 4,
   "id": "57437450-73b1-4b22-b106-f6eda4091a44",
   "metadata": {},
   "outputs": [
    {
     "name": "stdin",
     "output_type": "stream",
     "text": [
      "enter a number: 25\n"
     ]
    },
    {
     "name": "stdout",
     "output_type": "stream",
     "text": [
      "25 * 1 = 25\n",
      "25 * 2 = 50\n",
      "25 * 3 = 75\n",
      "25 * 4 = 100\n",
      "25 * 5 = 125\n",
      "25 * 6 = 150\n",
      "25 * 7 = 175\n",
      "25 * 8 = 200\n",
      "25 * 9 = 225\n",
      "25 * 10 = 250\n"
     ]
    }
   ],
   "source": [
    "n=int(input(\"enter a number:\"))\n",
    "i=1\n",
    "for i in range(1,11):\n",
    "    product=n*i\n",
    "    print(n,\"*\",i,\"=\",product)\n",
    "    i =+ 1\n",
    "    \n",
    "      \n",
    "      "
   ]
  },
  {
   "cell_type": "markdown",
   "id": "a43ffda1-a320-4fe5-8fe8-65bf8dafda44",
   "metadata": {},
   "source": [
    "#### 6. Write a program that counts the number of even and odd numbers in a list using a `for` loop."
   ]
  },
  {
   "cell_type": "code",
   "execution_count": 3,
   "id": "4c2bd8d4-90d9-4fa3-aac5-910355b82528",
   "metadata": {},
   "outputs": [
    {
     "name": "stdout",
     "output_type": "stream",
     "text": [
      "Count of even num: 5\n",
      "Count of odd num: 7\n"
     ]
    }
   ],
   "source": [
    "lst =[1,2,3,4,5,6,7,8,9,10,111,21]\n",
    "even = 0\n",
    "odd = 0\n",
    "for i in lst:\n",
    "    if i%2==0:\n",
    "        even=even+1\n",
    "    else:\n",
    "        odd=odd+1\n",
    "print(\"Count of even num:\",even)\n",
    "print(\"Count of odd num:\",odd)"
   ]
  },
  {
   "cell_type": "markdown",
   "id": "cd97ba33-dbac-4149-8ecf-408c70db97f0",
   "metadata": {},
   "source": [
    "#### 7. Develop a program that prints the squares of numbers from 1 to 5 using a `for` loop.\n"
   ]
  },
  {
   "cell_type": "code",
   "execution_count": 5,
   "id": "cffb7193-ce93-4413-9e5a-1fcceb6fef74",
   "metadata": {},
   "outputs": [
    {
     "name": "stdout",
     "output_type": "stream",
     "text": [
      "Square of each number of a given list is :  [1, 4, 9, 16, 25]\n"
     ]
    }
   ],
   "source": [
    "l1=[]\n",
    "for i in range(1,6):\n",
    "    i=i*i\n",
    "    l1.append(i)\n",
    "print(\"Square of each number of a given list is : \",l1)   "
   ]
  },
  {
   "cell_type": "markdown",
   "id": "ca21e3e4-61af-4da8-95e8-2b6307bbdabd",
   "metadata": {},
   "source": [
    "#### 8. Create a program to find the length of a string without using the `len()` function."
   ]
  },
  {
   "cell_type": "code",
   "execution_count": 8,
   "id": "6700268f-4a8b-4416-add0-9d835f163466",
   "metadata": {},
   "outputs": [
    {
     "name": "stdout",
     "output_type": "stream",
     "text": [
      "The length of a given string is :  7\n"
     ]
    }
   ],
   "source": [
    "s0=\"Ineuron\"\n",
    "count=0\n",
    "for i in s0:\n",
    "    count += 1\n",
    "print(\"The length of a given string is : \",count)    "
   ]
  },
  {
   "cell_type": "markdown",
   "id": "7ba14549-9301-4ce4-aa4c-e6d70c560c51",
   "metadata": {},
   "source": [
    "#### 9. Write a program that calculates the average of a list of numbers using a `for` loop."
   ]
  },
  {
   "cell_type": "code",
   "execution_count": 19,
   "id": "138e151c-b912-4a5b-b000-a33ec94991ff",
   "metadata": {},
   "outputs": [
    {
     "name": "stdout",
     "output_type": "stream",
     "text": [
      "5.5\n"
     ]
    }
   ],
   "source": [
    "\n",
    "l = [1,2,3,4,5,6,7,8,9,10]\n",
    "for i in l:\n",
    "    addition = sum(l)\n",
    "    avg = addition/len(l)\n",
    "    \n",
    "print(avg)\n"
   ]
  },
  {
   "cell_type": "code",
   "execution_count": 15,
   "id": "5b9954ce-0879-4b78-a829-7b79e88b87a5",
   "metadata": {},
   "outputs": [
    {
     "name": "stdout",
     "output_type": "stream",
     "text": [
      "3.5\n"
     ]
    }
   ],
   "source": [
    "list1 = [1,2,3,4,5,6]\n",
    "sum_of_ele = sum(list1)\n",
    "length_of_ele = len(list1)\n",
    "avg_of_list1 = sum_of_ele/length_of_ele\n",
    "print(avg_of_list1)"
   ]
  },
  {
   "cell_type": "markdown",
   "id": "0597e0a2-9956-4a9b-b196-e1e9f9194333",
   "metadata": {},
   "source": [
    "#### 10. Develop a program that prints the first `n` Fibonacci numbers using a `for` loop."
   ]
  },
  {
   "cell_type": "code",
   "execution_count": 1,
   "id": "1d099352-d9ec-4f41-9e02-97fae9d8a28b",
   "metadata": {},
   "outputs": [
    {
     "name": "stdin",
     "output_type": "stream",
     "text": [
      "enter  how many numbers want in this fib series: 9\n"
     ]
    },
    {
     "name": "stdout",
     "output_type": "stream",
     "text": [
      "0\n",
      "1\n",
      "1\n",
      "2\n",
      "3\n",
      "5\n",
      "8\n",
      "13\n",
      "21\n"
     ]
    }
   ],
   "source": [
    "n = int(input(\"enter  how many numbers want in this fib series:\"))\n",
    "first = 0\n",
    "second = 1\n",
    "for i in range(n):\n",
    "    print(first)\n",
    "    temp = first\n",
    "    first = second\n",
    "    second = temp + second\n",
    "    print(end='')\n",
    "    "
   ]
  },
  {
   "cell_type": "code",
   "execution_count": 18,
   "id": "f120a516-67f5-49fa-9980-98a78b2a77f6",
   "metadata": {},
   "outputs": [
    {
     "name": "stdin",
     "output_type": "stream",
     "text": [
      "How many Fibonacci numbers do you want to print?  5\n"
     ]
    },
    {
     "name": "stdout",
     "output_type": "stream",
     "text": [
      "0\n",
      "1\n",
      "1\n",
      "2\n",
      "3\n"
     ]
    }
   ],
   "source": [
    "n = int(input(\"How many Fibonacci numbers do you want to print? \"))\n",
    "\n",
    "a, b = 0, 1\n",
    "\n",
    "for _ in range(n):\n",
    "    print(a)\n",
    "    a, b = b, a + b"
   ]
  },
  {
   "cell_type": "markdown",
   "id": "5fbc0eb3-51fb-4a67-908a-18c3d4ddaf43",
   "metadata": {},
   "source": [
    "## Intermediate Level:"
   ]
  },
  {
   "cell_type": "markdown",
   "id": "ae639837-81ea-47a8-acfa-0a46ef628ad0",
   "metadata": {},
   "source": [
    "#### 11.Write a program to check if a given list contains any duplicates using a `for` loop."
   ]
  },
  {
   "cell_type": "code",
   "execution_count": 25,
   "id": "93b32734-9ea9-4641-9536-a8dbddbfb847",
   "metadata": {},
   "outputs": [
    {
     "name": "stdout",
     "output_type": "stream",
     "text": [
      "[2, 4, 5, 6, 7]\n",
      "The total duplicate number present in the list l1 is: 11\n"
     ]
    }
   ],
   "source": [
    "l1= [2,2,2,4,4,5,5,6,6,7,7,7,7,6,5,4]\n",
    "l2=[]\n",
    "count=0\n",
    "for i in l1:\n",
    "    if i not in l2:\n",
    "        l2.append(i)\n",
    "    else :\n",
    "        count += 1\n",
    "        \n",
    "print(l2)\n",
    "print(\"The total duplicate number present in the list l1 is:\",count)"
   ]
  },
  {
   "cell_type": "markdown",
   "id": "864bc14b-f62e-45c8-a003-89ae358ad8c6",
   "metadata": {},
   "source": [
    "#### 12.Create a program that prints the prime numbers in a given range using a `for` loop."
   ]
  },
  {
   "cell_type": "code",
   "execution_count": 25,
   "id": "a33810e7-9576-4de1-9155-e1ee02a03508",
   "metadata": {},
   "outputs": [
    {
     "name": "stdout",
     "output_type": "stream",
     "text": [
      "2\n",
      "3\n",
      "5\n",
      "7\n",
      "11\n",
      "13\n",
      "17\n",
      "19\n",
      "23\n",
      "29\n"
     ]
    }
   ],
   "source": [
    "for i in range(1,31):\n",
    "    if i>1:\n",
    "        for j in range(2,i):\n",
    "            if i%j==0:\n",
    "                break\n",
    "        else:\n",
    "            print(i)  "
   ]
  },
  {
   "cell_type": "markdown",
   "id": "2321b852-56ef-4f05-9e5d-c380823492fb",
   "metadata": {},
   "source": [
    "#### 13. Develop a program that counts the number of vowels in a string using a `for` loop."
   ]
  },
  {
   "cell_type": "code",
   "execution_count": 21,
   "id": "e98554f8-0ada-48f7-adcf-9a31f0ff43d9",
   "metadata": {},
   "outputs": [
    {
     "name": "stdout",
     "output_type": "stream",
     "text": [
      "The no of vowel in a given sentence is: 8\n"
     ]
    }
   ],
   "source": [
    "s= \"Sudhanshu Sir is best mentor\"\n",
    "vowel_count=['A','E','I','O','U','a','e','i','o','u']\n",
    "count=0\n",
    "for i in s:\n",
    "    if i in vowel_count:\n",
    "        count=count+1\n",
    "print(\"The no of vowel in a given sentence is:\", count)        "
   ]
  },
  {
   "cell_type": "markdown",
   "id": "ffdd3f8c-76b1-4eb2-a5ce-ef8f64df8723",
   "metadata": {},
   "source": [
    "#### 14. Write a program to find the maximum element in a 2D list using a nested `for` loop."
   ]
  },
  {
   "cell_type": "code",
   "execution_count": 28,
   "id": "36803229-d8c4-437f-a6ad-995778dc58e2",
   "metadata": {},
   "outputs": [
    {
     "name": "stdout",
     "output_type": "stream",
     "text": [
      "9\n"
     ]
    }
   ],
   "source": [
    "list1 = [[1,2,3] , [4,5,6] , [7,8,9]]\n",
    "largest_num = list1[0][0]\n",
    "for i in list1:\n",
    "    for j in i:\n",
    "        if j > largest_num:\n",
    "            largest_num = j\n",
    "print(largest_num)    \n",
    "   \n",
    "    \n",
    "  "
   ]
  },
  {
   "cell_type": "markdown",
   "id": "6a356858-7262-43d9-b67c-27954bad2d8f",
   "metadata": {},
   "source": [
    "#### 15. Create a program that removes all occurrences of a specific element from a list using a `for` loop."
   ]
  },
  {
   "cell_type": "code",
   "execution_count": 42,
   "id": "996a20dc-678e-48e2-968b-25774b2379d4",
   "metadata": {},
   "outputs": [
    {
     "name": "stdout",
     "output_type": "stream",
     "text": [
      "[1, 2, 3, 4, 'data', 4, 6, 7, 'masters']\n"
     ]
    }
   ],
   "source": [
    "list2 = [1,2,3,4,\"for\",\"data\",4,6,7,\"for\",\"masters\"]\n",
    "list3 = []\n",
    "element_to_rem =\"for\"\n",
    "for i in list2:\n",
    "    if i != element_to_rem :\n",
    "        list3.append(i)\n",
    "        \n",
    "print(list3)"
   ]
  },
  {
   "cell_type": "markdown",
   "id": "1388520e-8b02-4abc-b4b9-9fe4b73e0ab4",
   "metadata": {},
   "source": [
    "#### 16. Develop a program that generates a multiplication table for numbers from 1 to 5 using a nested `for` loop."
   ]
  },
  {
   "cell_type": "code",
   "execution_count": 50,
   "id": "ed698fb4-3d4c-4385-8e92-80d67f71e88f",
   "metadata": {},
   "outputs": [
    {
     "name": "stdout",
     "output_type": "stream",
     "text": [
      "1 2 3 4 5 \n",
      "2 4 6 8 10 \n",
      "3 6 9 12 15 \n",
      "4 8 12 16 20 \n",
      "5 10 15 20 25 \n",
      "6 12 18 24 30 \n",
      "7 14 21 28 35 \n",
      "8 16 24 32 40 \n",
      "9 18 27 36 45 \n",
      "10 20 30 40 50 \n"
     ]
    }
   ],
   "source": [
    "for i in range(1,11):\n",
    "    for j in range(1,6):\n",
    "        print(i*j,end=' ')\n",
    "    print()\n",
    "       \n",
    "    "
   ]
  },
  {
   "cell_type": "markdown",
   "id": "4481100c-e95e-49be-9976-5ea6be17d93e",
   "metadata": {},
   "source": [
    "#### 17. Write a program that converts a list of Fahrenheit temperatures to Celsius using a `for` loop. "
   ]
  },
  {
   "cell_type": "code",
   "execution_count": 1,
   "id": "2b9ab9b1-7cdf-4562-b25c-260ed695fd4a",
   "metadata": {},
   "outputs": [
    {
     "name": "stdout",
     "output_type": "stream",
     "text": [
      "Conversion of fahrenheit temp to Celcius: [68.0, 86.0, 104.0]\n"
     ]
    }
   ],
   "source": [
    "l=[20,30,40]\n",
    "l1=[]\n",
    "for i in l:\n",
    "    i=i*9/5+32\n",
    "    l1.append(i)\n",
    "print( \"Conversion of fahrenheit temp to Celcius:\",l1 )  "
   ]
  },
  {
   "cell_type": "markdown",
   "id": "9a67c934-1a42-440d-b611-126344815a3b",
   "metadata": {},
   "source": [
    "#### 18. Create a program to print the common elements from two lists using a `for` loop."
   ]
  },
  {
   "cell_type": "code",
   "execution_count": 15,
   "id": "edd8788b-1141-45ae-afb8-0d78c4a2093d",
   "metadata": {},
   "outputs": [
    {
     "name": "stdout",
     "output_type": "stream",
     "text": [
      "[1, 2, 'Nilesh', 5]\n"
     ]
    }
   ],
   "source": [
    "l1 = [1,2,3,4,\"Nilesh\",\"Shende\",5,6,7]\n",
    "l2 = [1,2,5,\"Nilesh\",\"Data\",\"Python\"]\n",
    "l3 =[]\n",
    "for i in l1:\n",
    "    for j in l2:\n",
    "        if j == i:\n",
    "            l3.append(j)\n",
    "            \n",
    "print(l3)"
   ]
  },
  {
   "cell_type": "markdown",
   "id": "59829881-317a-42b9-8525-980797971fcd",
   "metadata": {},
   "source": [
    "#### 19. Develop a program that prints the pattern of right-angled triangles using a `for` loop. Use ‘*’ to draw the pattern"
   ]
  },
  {
   "cell_type": "code",
   "execution_count": 19,
   "id": "107b46fb-9d08-41df-af9c-46065364d718",
   "metadata": {},
   "outputs": [
    {
     "name": "stdout",
     "output_type": "stream",
     "text": [
      "* \n",
      "* * \n",
      "* * * \n",
      "* * * * \n",
      "* * * * * \n"
     ]
    }
   ],
   "source": [
    "for i in range(1,6):\n",
    "    for j in range(1,i+1):\n",
    "        print('*',end=' ')\n",
    "    print()\n",
    "        "
   ]
  },
  {
   "cell_type": "markdown",
   "id": "1b67adf5-9348-4d93-b35f-ad8eefba2b33",
   "metadata": {},
   "source": [
    "#### 20. Write a program to find the greatest common divisor (GCD) of two numbers using a `for` loop."
   ]
  },
  {
   "cell_type": "code",
   "execution_count": 5,
   "id": "d33db04f-299f-45bf-a33e-fbacc85b8ffe",
   "metadata": {},
   "outputs": [
    {
     "name": "stdin",
     "output_type": "stream",
     "text": [
      "Enter 1st number 36\n",
      "Enter 2nd number 88\n"
     ]
    },
    {
     "name": "stdout",
     "output_type": "stream",
     "text": [
      "4\n"
     ]
    }
   ],
   "source": [
    "num1 = int(input('Enter 1st number'))\n",
    "num2 = int(input('Enter 2nd number'))\n",
    "GCD=1\n",
    "if num1<num2:\n",
    "    n=num1\n",
    "else:\n",
    "    n=num2\n",
    "    \n",
    "for i in range(1,n+1):\n",
    "    if num1%i==0 and num2%i==0:\n",
    "        GCD=i\n",
    "print(GCD)\n",
    "\n"
   ]
  },
  {
   "cell_type": "markdown",
   "id": "6e63c21e-46dd-4834-8184-1805888004bc",
   "metadata": {},
   "source": [
    "## Advanced Level:"
   ]
  },
  {
   "cell_type": "markdown",
   "id": "e965ae4d-2acf-4c5b-baf0-13114d7be8ba",
   "metadata": {},
   "source": [
    "#### 21. Create a program that calculates the sum of the digits of numbers in a list using a list comprehension."
   ]
  },
  {
   "cell_type": "code",
   "execution_count": 9,
   "id": "be36db04-6b54-4df4-b2d5-838ea840a0e8",
   "metadata": {},
   "outputs": [
    {
     "name": "stdout",
     "output_type": "stream",
     "text": [
      "[6, 15, 24]\n"
     ]
    }
   ],
   "source": [
    "sum_of_digit = [123,456,789]\n",
    "\n",
    "def sum_list(list_num):\n",
    "    return [sum(int(k) for k in str(i)) for i in list_num]\n",
    "\n",
    "summation = sum_list(sum_of_digit)\n",
    "print(summation)"
   ]
  },
  {
   "cell_type": "markdown",
   "id": "8f731c54-dd98-4782-8607-935bcb61a966",
   "metadata": {},
   "source": [
    "#### 22. Write a program to find the prime factors of a given number using a `for` loop and list comprehension."
   ]
  },
  {
   "cell_type": "code",
   "execution_count": null,
   "id": "ac40b63d-a551-4fc5-aa7f-d5be9bdbe710",
   "metadata": {},
   "outputs": [],
   "source": [
    "## NO IDEA"
   ]
  },
  {
   "cell_type": "markdown",
   "id": "f18d7172-6118-42fb-9f76-8e6ed644a0a7",
   "metadata": {},
   "source": [
    "#### 23. Develop a program that extracts unique elements from a list and stores them in a new list using a list comprehension."
   ]
  },
  {
   "cell_type": "code",
   "execution_count": 12,
   "id": "30afd7c6-be9c-4ad7-9cac-5b0fb77d4ac6",
   "metadata": {},
   "outputs": [
    {
     "name": "stdout",
     "output_type": "stream",
     "text": [
      "[1, 2, 3, 4, 5, 6, 7]\n"
     ]
    }
   ],
   "source": [
    "list1 = [1,1,1,2,2,3,3,4,4,5,5,6,6,7,7]\n",
    "new_list =[]\n",
    "list1 = [new_list.append(x) for x in list1 if x not in new_list]\n",
    "print(new_list)\n"
   ]
  },
  {
   "cell_type": "markdown",
   "id": "64b2846b-8c3f-435c-ac72-d6c904ff26d4",
   "metadata": {},
   "source": [
    "#### 24. Create a program that generates a list of all palindromic numbers up to a specified limit using a list comprehension."
   ]
  },
  {
   "cell_type": "code",
   "execution_count": 32,
   "id": "0b515f55-90ac-42b6-8fb4-360f289e0d93",
   "metadata": {},
   "outputs": [
    {
     "name": "stdin",
     "output_type": "stream",
     "text": [
      "enter a number upto a specified limit 100\n"
     ]
    },
    {
     "name": "stdout",
     "output_type": "stream",
     "text": [
      "[0, 1, 2, 3, 4, 5, 6, 7, 8, 9, 11, 22, 33, 44, 55, 66, 77, 88, 99]\n"
     ]
    }
   ],
   "source": [
    "lis = int(input(\"enter a number upto a specified limit\"))\n",
    "palindrome_list = [i for i in range(lis+1) if str(i) == str(i)[::-1]]\n",
    "print(palindrome_list)\n",
    "                  "
   ]
  },
  {
   "cell_type": "code",
   "execution_count": 37,
   "id": "1fa6649b-7a64-41ac-9fdc-99225c2dbaa8",
   "metadata": {},
   "outputs": [
    {
     "name": "stdout",
     "output_type": "stream",
     "text": [
      "1 2 3 4 5 6 7 8 9 11 22 33 44 55 66 77 88 99 "
     ]
    }
   ],
   "source": [
    "## Another simple method to get palindrome number using for loop or without list comprehension\n",
    "\n",
    "for i in range(1,101):\n",
    "    if str(i) == str(i)[::-1]:\n",
    "        print(i,end=' ')"
   ]
  },
  {
   "cell_type": "markdown",
   "id": "1baad734-5974-4123-babb-c273a51bf48e",
   "metadata": {},
   "source": [
    "#### 25. Write a program to flatten a nested list using list comprehension."
   ]
  },
  {
   "cell_type": "code",
   "execution_count": 14,
   "id": "22aa88fd-4910-4901-a8ce-d11871776768",
   "metadata": {},
   "outputs": [
    {
     "name": "stdout",
     "output_type": "stream",
     "text": [
      "[1, 2, 3, 4, 5, 6, 7, 8, 9]\n"
     ]
    }
   ],
   "source": [
    "list_1 = [[1,2,3],[4,5,6],[7,8,9]]\n",
    "flatten_list = [num for wraplist in list_1 for num in wraplist]\n",
    "print(flatten_list)\n"
   ]
  },
  {
   "cell_type": "code",
   "execution_count": 12,
   "id": "e67a2423-52f0-4db9-a6ad-7d241425032a",
   "metadata": {},
   "outputs": [
    {
     "name": "stdout",
     "output_type": "stream",
     "text": [
      "[1, 2, 3, 4, 5, 6, 7, 8, 9, 10, 11, 12]\n"
     ]
    }
   ],
   "source": [
    "list78 = [[1,2,3],[4,5,6,7],[8,9],[10,11,12]]\n",
    "list_8 = []\n",
    "\n",
    "for i in list78:\n",
    "        list_8.extend(i)\n",
    "        \n",
    "print(list_8)        \n",
    "        "
   ]
  },
  {
   "cell_type": "markdown",
   "id": "cb22c6a4-9107-4323-96a0-1257e1a62ad6",
   "metadata": {},
   "source": [
    "#### 26. Develop a program that computes the sum of even and odd numbers in a list separately using list comprehension."
   ]
  },
  {
   "cell_type": "code",
   "execution_count": 50,
   "id": "baff3793-6d97-475d-8ed3-ab0a8dc9d6d9",
   "metadata": {},
   "outputs": [
    {
     "name": "stdout",
     "output_type": "stream",
     "text": [
      "Sum of even numbers: 204\n",
      "Sum of odd numbers: 658\n"
     ]
    }
   ],
   "source": [
    "numbers = [3,545,67,43,46,78,34,46]\n",
    "even_sum = sum([num for num in numbers if num % 2 == 0])\n",
    "odd_sum = sum([num for num in numbers if num % 2 != 0])\n",
    "print(\"Sum of even numbers:\", even_sum)\n",
    "print(\"Sum of odd numbers:\", odd_sum)\n",
    "            \n",
    "    \n",
    "    \n",
    "  \n",
    "            "
   ]
  },
  {
   "cell_type": "code",
   "execution_count": 49,
   "id": "95ddc6ce-2b93-4814-978f-b15c6cb53bdd",
   "metadata": {},
   "outputs": [
    {
     "name": "stdout",
     "output_type": "stream",
     "text": [
      "Even number list:- [2, 4, 6, 8, 10]\n",
      "Odd number list:- [1, 3, 5, 7, 9]\n",
      "The sum of even number list is: 30\n",
      "The sum of odd number list is: 25\n"
     ]
    }
   ],
   "source": [
    "\n",
    "## OR METHOD\n",
    "\n",
    "from functools import reduce\n",
    "list34 = [1,2,3,4,5,6,7,8,9,10]\n",
    "even = []\n",
    "odd = []\n",
    "for i in list34:\n",
    "    if i%2==0:\n",
    "        even.append(i)\n",
    "    else :\n",
    "        odd.append(i)\n",
    "        \n",
    "print(\"Even number list:-\",even)\n",
    "print(\"Odd number list:-\",odd)\n",
    "\n",
    "dhf = reduce(lambda a,b : a+b,even)\n",
    "print(\"The sum of even number list is:\",dhf)\n",
    "dhf = reduce(lambda a,b : a+b,odd) \n",
    "print(\"The sum of odd number list is:\",dhf)\n",
    "            \n",
    "        \n",
    "       "
   ]
  },
  {
   "cell_type": "markdown",
   "id": "211e622c-862c-42ae-9242-6dd0c10ee2de",
   "metadata": {},
   "source": [
    "#### 27. Create a program that generates a list of squares of odd numbers between 1 and 10 using list comprehension."
   ]
  },
  {
   "cell_type": "code",
   "execution_count": 52,
   "id": "53dd7acb-2883-46c7-915e-a9d55e8bd41e",
   "metadata": {},
   "outputs": [
    {
     "name": "stdout",
     "output_type": "stream",
     "text": [
      "[1, 9, 25, 49, 81]\n"
     ]
    }
   ],
   "source": [
    "list57 = [i**2 for i in range(1,11) if i%2!=0]\n",
    "print(list57)"
   ]
  },
  {
   "cell_type": "markdown",
   "id": "0a76acdd-fd03-44a6-a02b-cd0cf7d4c4ec",
   "metadata": {},
   "source": [
    "#### 28. Write a program that combines two lists into a dictionary using list comprehension."
   ]
  },
  {
   "cell_type": "code",
   "execution_count": 65,
   "id": "e001ec6f-c74f-4e79-b57a-23bfd9119060",
   "metadata": {},
   "outputs": [
    {
     "name": "stdout",
     "output_type": "stream",
     "text": [
      "{'Name': 'Nilesh', 'Edu': 'B.E(Mech)', 'Course': 'FSDS Pro', 'Position': 'Data Scientist'}\n"
     ]
    }
   ],
   "source": [
    "keys = ['Name','Edu','Course','Position']\n",
    "values = ['Nilesh','B.E(Mech)','FSDS Pro','Data Scientist']\n",
    "\n",
    "dictionary = {key:value for key,value in zip(keys,values)}\n",
    "print(dictionary)"
   ]
  },
  {
   "cell_type": "markdown",
   "id": "149e41ca-ccf0-4381-abef-8c579ccb8909",
   "metadata": {},
   "source": [
    "#### 29. Develop a program that extracts the vowels from a string and stores them in a list using list comprehension."
   ]
  },
  {
   "cell_type": "code",
   "execution_count": 70,
   "id": "cb67db58-b01a-4d96-8d78-6b9717b1f63b",
   "metadata": {},
   "outputs": [
    {
     "name": "stdout",
     "output_type": "stream",
     "text": [
      "['u', 'a', 'a', 'a', 'i', 'e', 'e', 'u', 'i', 'o']\n"
     ]
    }
   ],
   "source": [
    "s1=\"full stack data science using python \"\n",
    "vowel_check =[ \"a\",\"e\",\"i\",\"o\",\"u\"]\n",
    "lst = [i for i in s1 if i in vowel_check ]\n",
    "print(lst)"
   ]
  },
  {
   "cell_type": "markdown",
   "id": "a3e5c28c-c298-49dc-a0b7-5c887f72dd1d",
   "metadata": {},
   "source": [
    "#### 30. Create a program that removes all non-numeric characters from a list of strings using list comprehension."
   ]
  },
  {
   "cell_type": "code",
   "execution_count": 8,
   "id": "d7c04208-a79d-457f-91de-1d9dd7cb69cc",
   "metadata": {},
   "outputs": [
    {
     "name": "stdout",
     "output_type": "stream",
     "text": [
      "['464', '56785', '1', '2', '3']\n"
     ]
    }
   ],
   "source": [
    "s2 = \"hel464lo\",\"wor5678ld5\",\"Data1\",\"science2\",\"E3DA\"\n",
    "non_num = [''.join([j for j in i if j.isnumeric()]) for i in s2 ]\n",
    "print(non_num)"
   ]
  },
  {
   "cell_type": "code",
   "execution_count": null,
   "id": "9c691b40-3513-4e7a-99aa-fcfc2819f273",
   "metadata": {},
   "outputs": [],
   "source": []
  }
 ],
 "metadata": {
  "kernelspec": {
   "display_name": "Python 3 (ipykernel)",
   "language": "python",
   "name": "python3"
  },
  "language_info": {
   "codemirror_mode": {
    "name": "ipython",
    "version": 3
   },
   "file_extension": ".py",
   "mimetype": "text/x-python",
   "name": "python",
   "nbconvert_exporter": "python",
   "pygments_lexer": "ipython3",
   "version": "3.10.8"
  }
 },
 "nbformat": 4,
 "nbformat_minor": 5
}
