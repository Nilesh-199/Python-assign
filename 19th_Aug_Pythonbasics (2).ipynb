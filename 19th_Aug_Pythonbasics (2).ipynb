{
 "cells": [
  {
   "cell_type": "markdown",
   "id": "7173a551-b16f-4536-b42a-da054aa74a84",
   "metadata": {},
   "source": [
    "#### Q.1. Declare two variables, `x` and `y`, and assign them integer values. Swap the\n",
    "values of these variables without using any temporary variable."
   ]
  },
  {
   "cell_type": "code",
   "execution_count": 1,
   "id": "c59dc3b2-f34e-4187-a6d1-53037a33cdfe",
   "metadata": {},
   "outputs": [],
   "source": [
    "a = 10\n",
    "b = 20"
   ]
  },
  {
   "cell_type": "code",
   "execution_count": 4,
   "id": "b24c6e0b-2ea8-4a21-83d1-f6b29e6e7b49",
   "metadata": {},
   "outputs": [],
   "source": [
    "a,b =b,a"
   ]
  },
  {
   "cell_type": "code",
   "execution_count": 5,
   "id": "6df9d9b3-728e-415d-b529-1a3f59271ad2",
   "metadata": {},
   "outputs": [
    {
     "data": {
      "text/plain": [
       "(20, 10)"
      ]
     },
     "execution_count": 5,
     "metadata": {},
     "output_type": "execute_result"
    }
   ],
   "source": [
    "a,b"
   ]
  },
  {
   "cell_type": "code",
   "execution_count": 6,
   "id": "ae20a354-621e-49e8-96a8-13517d1fd306",
   "metadata": {},
   "outputs": [
    {
     "name": "stdout",
     "output_type": "stream",
     "text": [
      "20 10\n"
     ]
    }
   ],
   "source": [
    "#OR another method\n",
    "a = 10\n",
    "b = 20\n",
    "a = a + b # 10+20=30,so the value for a = 30\n",
    "b = a - b # 30-20=10, so the vaiue for b = 10\n",
    "a = a - b # 30-10=20, so the value for b = 20\n",
    "\n",
    "print(a,b)\n"
   ]
  },
  {
   "cell_type": "markdown",
   "id": "6637b201-7f2a-4d3c-865d-0fbaeecd9ea1",
   "metadata": {},
   "source": [
    "#### 2. Create a program that calculates the area of a rectangle. Take the length and width as inputs from the user and store them in variables. Calculate and display the area."
   ]
  },
  {
   "cell_type": "code",
   "execution_count": 23,
   "id": "d2a1a2de-c783-46a3-b2cb-1c097225fa64",
   "metadata": {},
   "outputs": [
    {
     "name": "stdin",
     "output_type": "stream",
     "text": [
      "Enter the length of reactangle:  40\n",
      "Enter the width of reactangle:  50\n"
     ]
    },
    {
     "name": "stdout",
     "output_type": "stream",
     "text": [
      "2000\n"
     ]
    }
   ],
   "source": [
    "length = int(input(\"Enter the length of reactangle: \")) # Input function is used when user want different different values for the same formula\n",
    "width = int(input(\"Enter the width of reactangle: \"))\n",
    "area = length * width\n",
    "print (area)\n"
   ]
  },
  {
   "cell_type": "code",
   "execution_count": null,
   "id": "5464ee59-58d5-4748-afb2-1830fa3b45e8",
   "metadata": {},
   "outputs": [],
   "source": []
  },
  {
   "cell_type": "markdown",
   "id": "e13c768d-881a-4271-9374-18e96c477023",
   "metadata": {},
   "source": [
    "#### 3. Write a Python program that converts temperatures from Celsius toFahrenheit. Take the temperature in Celsius as input, store it in a variable,convert it to Fahrenheit, and display the result."
   ]
  },
  {
   "cell_type": "code",
   "execution_count": 21,
   "id": "e995f1f5-d02c-4b61-8706-6962491b9f6d",
   "metadata": {},
   "outputs": [
    {
     "name": "stdin",
     "output_type": "stream",
     "text": [
      "Enter the value of temperature:  37\n"
     ]
    },
    {
     "name": "stdout",
     "output_type": "stream",
     "text": [
      "98\n"
     ]
    }
   ],
   "source": [
    "  Celsius = int(input(\"Enter the value of temperature: \"))\n",
    "  fahrenheit = (Celsius * 9/5 ) + 32\n",
    "  print(int(fahrenheit))  \n",
    "              "
   ]
  },
  {
   "cell_type": "code",
   "execution_count": 4,
   "id": "c0233ff3-4348-4d2f-8f96-60d15ca2e95c",
   "metadata": {},
   "outputs": [
    {
     "data": {
      "text/plain": [
       "98"
      ]
     },
     "execution_count": 4,
     "metadata": {},
     "output_type": "execute_result"
    }
   ],
   "source": [
    "int(fahrenheit)"
   ]
  },
  {
   "cell_type": "markdown",
   "id": "31018587-8041-4506-95fb-13b76ca54616",
   "metadata": {},
   "source": [
    "## TOPIC: String Based Questions"
   ]
  },
  {
   "cell_type": "markdown",
   "id": "dee75ba3-7d90-4c96-a219-4a58515f511e",
   "metadata": {},
   "source": [
    "#### Q1. Write a Python program that takes a string as input and prints the length of the string."
   ]
  },
  {
   "cell_type": "code",
   "execution_count": 19,
   "id": "4f2ea6cd-2926-4c06-bd84-67e063d42da0",
   "metadata": {
    "tags": []
   },
   "outputs": [
    {
     "name": "stdin",
     "output_type": "stream",
     "text": [
      "Enter the string value: IneuronPWskills\n"
     ]
    },
    {
     "name": "stdout",
     "output_type": "stream",
     "text": [
      "15\n"
     ]
    }
   ],
   "source": [
    "s1 = str(input('Enter the string value:')) # to find out length of string we use len function, len function is count alphabets in a whole sentence.\n",
    "s =len(s1)\n",
    "print(s)\n",
    "         "
   ]
  },
  {
   "cell_type": "code",
   "execution_count": null,
   "id": "d1c40ed7-c11e-4b06-8b1e-cf208937131c",
   "metadata": {},
   "outputs": [],
   "source": []
  },
  {
   "cell_type": "markdown",
   "id": "2efefba1-ddc0-491c-bc4d-344682ffa14f",
   "metadata": {
    "tags": []
   },
   "source": [
    "#### Q2. Create a program that takes a sentence from the user and counts the number of vowels (a, e, i, o, u) in the string."
   ]
  },
  {
   "cell_type": "code",
   "execution_count": 18,
   "id": "ff3d0786-3d04-4028-be5a-7aa6c9e54a7c",
   "metadata": {},
   "outputs": [
    {
     "name": "stdin",
     "output_type": "stream",
     "text": [
      "Enter a sentence:  Sudhanshu Sir teaching python very good.\n"
     ]
    },
    {
     "name": "stdout",
     "output_type": "stream",
     "text": [
      "11\n"
     ]
    }
   ],
   "source": [
    "sentence = input('Enter a sentence:') # count function is used to count a particular argument which we passed in a code.\n",
    "vowel_count=sentence.count('a')+sentence.count('e')+sentence.count('i')+sentence.count('o')+sentence.count('u')\n",
    "print(vowel_count)\n",
    "    "
   ]
  },
  {
   "cell_type": "code",
   "execution_count": null,
   "id": "f661717b-1734-427d-befb-1a807f1e91b7",
   "metadata": {},
   "outputs": [],
   "source": []
  },
  {
   "cell_type": "markdown",
   "id": "334751b5-0f86-4c93-a822-dc5957c55df6",
   "metadata": {},
   "source": [
    "#### Q3. Given a string, reverse the order of characters using string slicing and print the reversed string."
   ]
  },
  {
   "cell_type": "code",
   "execution_count": 49,
   "id": "b874255f-511e-4d3b-a08e-914a144c3922",
   "metadata": {},
   "outputs": [
    {
     "name": "stdin",
     "output_type": "stream",
     "text": [
      "Enter a string: Ineuron\n"
     ]
    },
    {
     "data": {
      "text/plain": [
       "'noruenI'"
      ]
     },
     "execution_count": 49,
     "metadata": {},
     "output_type": "execute_result"
    }
   ],
   "source": [
    "s2 = input(\"Enter a string:\") # for getting desired output, we use simply range of values(slicing) with -1 sign.\n",
    "s2[::-1]"
   ]
  },
  {
   "cell_type": "code",
   "execution_count": 50,
   "id": "1a1161e0-7388-40d3-9168-58257e88714f",
   "metadata": {},
   "outputs": [],
   "source": [
    "# another method\n",
    "s3='Ineuron'"
   ]
  },
  {
   "cell_type": "code",
   "execution_count": 54,
   "id": "1c7e3783-3e8a-4bd9-9506-1e3cf34b9975",
   "metadata": {},
   "outputs": [
    {
     "data": {
      "text/plain": [
       "'noruenI'"
      ]
     },
     "execution_count": 54,
     "metadata": {},
     "output_type": "execute_result"
    }
   ],
   "source": [
    "s3[-1:-8:-1]"
   ]
  },
  {
   "cell_type": "markdown",
   "id": "23676f06-c432-42b9-9756-b8fcd6a45630",
   "metadata": {},
   "source": [
    "#### 4. Write a program that takes a string as input and checks if it is a palindrome (reads the same forwards and backwards)."
   ]
  },
  {
   "cell_type": "code",
   "execution_count": 57,
   "id": "446638e2-d4f0-4608-87f9-c6c335c734e1",
   "metadata": {},
   "outputs": [
    {
     "name": "stdin",
     "output_type": "stream",
     "text": [
      "Enter string:  PWskillsIneuron\n"
     ]
    },
    {
     "name": "stdout",
     "output_type": "stream",
     "text": [
      "Not a palindrome\n"
     ]
    }
   ],
   "source": [
    "s4 = input(\"Enter string: \")\n",
    "\n",
    "if s4 == s4[::-1]: \n",
    "    print(\"Palindrome\")\n",
    "else:\n",
    "    print(\"Not a palindrome\")"
   ]
  },
  {
   "cell_type": "markdown",
   "id": "9d1b1933-e39e-4cbb-a5f5-7cc6bd777fdb",
   "metadata": {},
   "source": [
    "#### Q5. Create a program that takes a string as input and removes all the spaces from it. Print the modified string without spaces."
   ]
  },
  {
   "cell_type": "code",
   "execution_count": 17,
   "id": "a145f1ef-b8a1-4d4f-b0ea-df4266ade93b",
   "metadata": {},
   "outputs": [
    {
     "name": "stdin",
     "output_type": "stream",
     "text": [
      "Enter a string:  '  Hello,    World!    '\n"
     ]
    },
    {
     "name": "stdout",
     "output_type": "stream",
     "text": [
      "'Hello,World!'\n"
     ]
    }
   ],
   "source": [
    "s5 = input('Enter a string:') # Replace function is used to relace a word with new and also we can use to remove all spaces.\n",
    "s6 = s5.replace(' ','')\n",
    "print(s6)"
   ]
  },
  {
   "cell_type": "code",
   "execution_count": null,
   "id": "a9f94b0a-779d-4f7c-b6c0-ed9028c6631e",
   "metadata": {},
   "outputs": [],
   "source": []
  },
  {
   "cell_type": "code",
   "execution_count": null,
   "id": "7d950572-8f4a-44ce-977e-b40bbcfd4a91",
   "metadata": {},
   "outputs": [],
   "source": []
  },
  {
   "cell_type": "code",
   "execution_count": null,
   "id": "03ff6bb1-db84-461f-bb78-a49b0fe01044",
   "metadata": {},
   "outputs": [],
   "source": []
  }
 ],
 "metadata": {
  "kernelspec": {
   "display_name": "Python 3 (ipykernel)",
   "language": "python",
   "name": "python3"
  },
  "language_info": {
   "codemirror_mode": {
    "name": "ipython",
    "version": 3
   },
   "file_extension": ".py",
   "mimetype": "text/x-python",
   "name": "python",
   "nbconvert_exporter": "python",
   "pygments_lexer": "ipython3",
   "version": "3.10.8"
  }
 },
 "nbformat": 4,
 "nbformat_minor": 5
}
